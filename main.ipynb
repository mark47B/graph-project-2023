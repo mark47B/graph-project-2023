{
 "cells": [
  {
   "cell_type": "code",
   "execution_count": 1,
   "metadata": {
    "ExecuteTime": {
     "end_time": "2023-05-25T20:54:12.569360Z",
     "start_time": "2023-05-25T20:54:11.617042Z"
    }
   },
   "outputs": [],
   "source": [
    "import pandas as pd\n",
    "import python_graphs.visualization as vis"
   ]
  },
  {
   "cell_type": "code",
   "execution_count": 9,
   "outputs": [],
   "source": [
    "Networks = ['email-Eu-core-temporal', 'munmun_digg_reply', 'opsahi-ucsocial','radoslaw_email','soc-sign-bitcoinalpha', 'sx-mathoverflow']\n",
    "networks_files_names = [ f'datasets/{i}/out.{i}' for i in Networks]\n",
    "number_of_datasets = 6\n",
    "datasets_info = {'Network': ['email-Eu-core-temporal', 'munmun_digg_reply', 'opsahi-ucsocial','radoslaw_email','soc-sign-bitcoinalpha', 'sx-mathoverflow'],\n",
    "'Label': ['EU','D-rep','UC','Rado','bitA','SX-MO'],\n",
    "'Category': ['Social',\"Social\",\"Information\",\"Social\",\"Social\",\"Social\"],\n",
    "'Edge type': ['Multi','Simple','Multi','Multi','Simple','Multi'],\n",
    "'Path': networks_files_names}\n",
    "datasets_info = pd.DataFrame(datasets_info)"
   ],
   "metadata": {
    "collapsed": false,
    "ExecuteTime": {
     "end_time": "2023-05-25T21:08:34.782233Z",
     "start_time": "2023-05-25T21:08:34.761010Z"
    }
   }
  },
  {
   "cell_type": "code",
   "execution_count": 10,
   "outputs": [
    {
     "data": {
      "text/plain": "                 Network Label Category Edge type   \n4  soc-sign-bitcoinalpha  bitA   Social    Simple  \\\n\n                                                Path  \n4  datasets/soc-sign-bitcoinalpha/out.soc-sign-bi...  ",
      "text/html": "<div>\n<style scoped>\n    .dataframe tbody tr th:only-of-type {\n        vertical-align: middle;\n    }\n\n    .dataframe tbody tr th {\n        vertical-align: top;\n    }\n\n    .dataframe thead th {\n        text-align: right;\n    }\n</style>\n<table border=\"1\" class=\"dataframe\">\n  <thead>\n    <tr style=\"text-align: right;\">\n      <th></th>\n      <th>Network</th>\n      <th>Label</th>\n      <th>Category</th>\n      <th>Edge type</th>\n      <th>Path</th>\n    </tr>\n  </thead>\n  <tbody>\n    <tr>\n      <th>4</th>\n      <td>soc-sign-bitcoinalpha</td>\n      <td>bitA</td>\n      <td>Social</td>\n      <td>Simple</td>\n      <td>datasets/soc-sign-bitcoinalpha/out.soc-sign-bi...</td>\n    </tr>\n  </tbody>\n</table>\n</div>"
     },
     "execution_count": 10,
     "metadata": {},
     "output_type": "execute_result"
    }
   ],
   "source": [
    "datasets_info = datasets_info.iloc[0:1]\n",
    "datasets_info.head()"
   ],
   "metadata": {
    "collapsed": false,
    "ExecuteTime": {
     "end_time": "2023-05-25T21:08:35.407655Z",
     "start_time": "2023-05-25T21:08:35.398281Z"
    }
   }
  },
  {
   "cell_type": "code",
   "execution_count": 11,
   "outputs": [
    {
     "ename": "KeyboardInterrupt",
     "evalue": "",
     "output_type": "error",
     "traceback": [
      "\u001B[0;31m---------------------------------------------------------------------------\u001B[0m",
      "\u001B[0;31mKeyboardInterrupt\u001B[0m                         Traceback (most recent call last)",
      "Cell \u001B[0;32mIn[11], line 1\u001B[0m\n\u001B[0;32m----> 1\u001B[0m latex_feature_network_table,latex_auc_table \u001B[38;5;241m=\u001B[39m \u001B[43mvis\u001B[49m\u001B[38;5;241;43m.\u001B[39;49m\u001B[43mgraph_features_tables\u001B[49m\u001B[43m(\u001B[49m\u001B[43mdatasets_info\u001B[49m\u001B[43m)\u001B[49m\n",
      "File \u001B[0;32m~/PycharmProjects/graph-project-2023/python_graphs/visualization.py:45\u001B[0m, in \u001B[0;36mgraph_features_tables\u001B[0;34m(datasets_info)\u001B[0m\n\u001B[1;32m     20\u001B[0m     \u001B[38;5;66;03m# ск - снежный ком\u001B[39;00m\n\u001B[1;32m     21\u001B[0m     \u001B[38;5;66;03m# свв - случайный выбор вершин\u001B[39;00m\n\u001B[1;32m     22\u001B[0m     \u001B[38;5;28;01mreturn\u001B[39;00m {\n\u001B[1;32m     23\u001B[0m         \u001B[38;5;124m'\u001B[39m\u001B[38;5;124mСеть\u001B[39m\u001B[38;5;124m'\u001B[39m: network_info[\u001B[38;5;124m'\u001B[39m\u001B[38;5;124mLabel\u001B[39m\u001B[38;5;124m'\u001B[39m],\n\u001B[1;32m     24\u001B[0m         \u001B[38;5;124m'\u001B[39m\u001B[38;5;124mКатегория\u001B[39m\u001B[38;5;124m'\u001B[39m: network_info[\u001B[38;5;124m'\u001B[39m\u001B[38;5;124mCategory\u001B[39m\u001B[38;5;124m'\u001B[39m],\n\u001B[0;32m   (...)\u001B[0m\n\u001B[1;32m     41\u001B[0m         \u001B[38;5;124m'\u001B[39m\u001B[38;5;124mAUC\u001B[39m\u001B[38;5;124m'\u001B[39m: mdtr\u001B[38;5;241m.\u001B[39mget_performance(tmpGraph),\n\u001B[1;32m     42\u001B[0m     }\n\u001B[0;32m---> 45\u001B[0m \u001B[38;5;28;01mdef\u001B[39;00m \u001B[38;5;21mgraph_features_tables\u001B[39m(datasets_info: pd\u001B[38;5;241m.\u001B[39mDataFrame):\n\u001B[1;32m     47\u001B[0m     table \u001B[38;5;241m=\u001B[39m pd\u001B[38;5;241m.\u001B[39mDataFrame([get_stats(network_info) \u001B[38;5;28;01mfor\u001B[39;00m index, network_info \u001B[38;5;129;01min\u001B[39;00m datasets_info\u001B[38;5;241m.\u001B[39miterrows()])\u001B[38;5;241m.\u001B[39msort_values(\u001B[38;5;124m'\u001B[39m\u001B[38;5;124mВершины\u001B[39m\u001B[38;5;124m'\u001B[39m)\n\u001B[1;32m     49\u001B[0m     columns_to_include_to_feature_network_table \u001B[38;5;241m=\u001B[39m [\n\u001B[1;32m     50\u001B[0m         \u001B[38;5;124m'\u001B[39m\u001B[38;5;124mСеть\u001B[39m\u001B[38;5;124m'\u001B[39m,\n\u001B[1;32m     51\u001B[0m         \u001B[38;5;124m'\u001B[39m\u001B[38;5;124mКатегория\u001B[39m\u001B[38;5;124m'\u001B[39m,\n\u001B[0;32m   (...)\u001B[0m\n\u001B[1;32m     67\u001B[0m         \u001B[38;5;124m'\u001B[39m\u001B[38;5;124mСред.класт.коэф.сети\u001B[39m\u001B[38;5;124m'\u001B[39m,\n\u001B[1;32m     68\u001B[0m     ]\n",
      "File \u001B[0;32m~/PycharmProjects/graph-project-2023/python_graphs/visualization.py:45\u001B[0m, in \u001B[0;36m<listcomp>\u001B[0;34m(.0)\u001B[0m\n\u001B[1;32m     20\u001B[0m     \u001B[38;5;66;03m# ск - снежный ком\u001B[39;00m\n\u001B[1;32m     21\u001B[0m     \u001B[38;5;66;03m# свв - случайный выбор вершин\u001B[39;00m\n\u001B[1;32m     22\u001B[0m     \u001B[38;5;28;01mreturn\u001B[39;00m {\n\u001B[1;32m     23\u001B[0m         \u001B[38;5;124m'\u001B[39m\u001B[38;5;124mСеть\u001B[39m\u001B[38;5;124m'\u001B[39m: network_info[\u001B[38;5;124m'\u001B[39m\u001B[38;5;124mLabel\u001B[39m\u001B[38;5;124m'\u001B[39m],\n\u001B[1;32m     24\u001B[0m         \u001B[38;5;124m'\u001B[39m\u001B[38;5;124mКатегория\u001B[39m\u001B[38;5;124m'\u001B[39m: network_info[\u001B[38;5;124m'\u001B[39m\u001B[38;5;124mCategory\u001B[39m\u001B[38;5;124m'\u001B[39m],\n\u001B[0;32m   (...)\u001B[0m\n\u001B[1;32m     41\u001B[0m         \u001B[38;5;124m'\u001B[39m\u001B[38;5;124mAUC\u001B[39m\u001B[38;5;124m'\u001B[39m: mdtr\u001B[38;5;241m.\u001B[39mget_performance(tmpGraph),\n\u001B[1;32m     42\u001B[0m     }\n\u001B[0;32m---> 45\u001B[0m \u001B[38;5;28;01mdef\u001B[39;00m \u001B[38;5;21mgraph_features_tables\u001B[39m(datasets_info: pd\u001B[38;5;241m.\u001B[39mDataFrame):\n\u001B[1;32m     47\u001B[0m     table \u001B[38;5;241m=\u001B[39m pd\u001B[38;5;241m.\u001B[39mDataFrame([get_stats(network_info) \u001B[38;5;28;01mfor\u001B[39;00m index, network_info \u001B[38;5;129;01min\u001B[39;00m datasets_info\u001B[38;5;241m.\u001B[39miterrows()])\u001B[38;5;241m.\u001B[39msort_values(\u001B[38;5;124m'\u001B[39m\u001B[38;5;124mВершины\u001B[39m\u001B[38;5;124m'\u001B[39m)\n\u001B[1;32m     49\u001B[0m     columns_to_include_to_feature_network_table \u001B[38;5;241m=\u001B[39m [\n\u001B[1;32m     50\u001B[0m         \u001B[38;5;124m'\u001B[39m\u001B[38;5;124mСеть\u001B[39m\u001B[38;5;124m'\u001B[39m,\n\u001B[1;32m     51\u001B[0m         \u001B[38;5;124m'\u001B[39m\u001B[38;5;124mКатегория\u001B[39m\u001B[38;5;124m'\u001B[39m,\n\u001B[0;32m   (...)\u001B[0m\n\u001B[1;32m     67\u001B[0m         \u001B[38;5;124m'\u001B[39m\u001B[38;5;124mСред.класт.коэф.сети\u001B[39m\u001B[38;5;124m'\u001B[39m,\n\u001B[1;32m     68\u001B[0m     ]\n",
      "File \u001B[0;32m~/PycharmProjects/graph-project-2023/python_graphs/visualization.py:31\u001B[0m, in \u001B[0;36mget_stats\u001B[0;34m(network_info)\u001B[0m\n\u001B[1;32m     18\u001B[0m sg_rsv \u001B[38;5;241m=\u001B[39m random_selected_vertices_approach(staticGraph\u001B[38;5;241m.\u001B[39mget_largest_connected_component())\n\u001B[1;32m     20\u001B[0m \u001B[38;5;66;03m# ск - снежный ком\u001B[39;00m\n\u001B[1;32m     21\u001B[0m \u001B[38;5;66;03m# свв - случайный выбор вершин\u001B[39;00m\n\u001B[1;32m     22\u001B[0m \u001B[38;5;28;01mreturn\u001B[39;00m {\n\u001B[1;32m     23\u001B[0m     \u001B[38;5;124m'\u001B[39m\u001B[38;5;124mСеть\u001B[39m\u001B[38;5;124m'\u001B[39m: network_info[\u001B[38;5;124m'\u001B[39m\u001B[38;5;124mLabel\u001B[39m\u001B[38;5;124m'\u001B[39m],\n\u001B[1;32m     24\u001B[0m     \u001B[38;5;124m'\u001B[39m\u001B[38;5;124mКатегория\u001B[39m\u001B[38;5;124m'\u001B[39m: network_info[\u001B[38;5;124m'\u001B[39m\u001B[38;5;124mCategory\u001B[39m\u001B[38;5;124m'\u001B[39m],\n\u001B[1;32m     25\u001B[0m     \u001B[38;5;124m'\u001B[39m\u001B[38;5;124mВершины\u001B[39m\u001B[38;5;124m'\u001B[39m: staticGraph\u001B[38;5;241m.\u001B[39mcount_vertices(), \n\u001B[1;32m     26\u001B[0m     \u001B[38;5;124m'\u001B[39m\u001B[38;5;124mТип ребер\u001B[39m\u001B[38;5;124m'\u001B[39m: network_info[\u001B[38;5;124m'\u001B[39m\u001B[38;5;124mEdge type\u001B[39m\u001B[38;5;124m'\u001B[39m],\n\u001B[1;32m     27\u001B[0m     \u001B[38;5;124m'\u001B[39m\u001B[38;5;124mРебра\u001B[39m\u001B[38;5;124m'\u001B[39m:staticGraph\u001B[38;5;241m.\u001B[39mcount_edges(),\n\u001B[1;32m     28\u001B[0m     \u001B[38;5;124m'\u001B[39m\u001B[38;5;124mПлотность графа\u001B[39m\u001B[38;5;124m'\u001B[39m:staticGraph\u001B[38;5;241m.\u001B[39mdensity(),\n\u001B[1;32m     29\u001B[0m     \u001B[38;5;124m'\u001B[39m\u001B[38;5;124mДоля вершин\u001B[39m\u001B[38;5;124m'\u001B[39m:staticGraph\u001B[38;5;241m.\u001B[39mshare_of_vertices(),\n\u001B[1;32m     30\u001B[0m     \u001B[38;5;124m'\u001B[39m\u001B[38;5;124mКомпоненты с/с\u001B[39m\u001B[38;5;124m'\u001B[39m:staticGraph\u001B[38;5;241m.\u001B[39mget_number_of_connected_components(),\n\u001B[0;32m---> 31\u001B[0m     \u001B[38;5;124m'\u001B[39m\u001B[38;5;124mВершины в наибольшей компоненте с/с\u001B[39m\u001B[38;5;124m'\u001B[39m:staticGraph\u001B[38;5;241m.\u001B[39mget_largest_connected_component()\u001B[38;5;241m.\u001B[39mcount_vertices(),\n\u001B[1;32m     32\u001B[0m     \u001B[38;5;124m'\u001B[39m\u001B[38;5;124mРебра в наибольшей компоненте с/с\u001B[39m\u001B[38;5;124m'\u001B[39m:staticGraph\u001B[38;5;241m.\u001B[39mget_largest_connected_component()\u001B[38;5;241m.\u001B[39mcount_edges(),\n\u001B[1;32m     33\u001B[0m     \u001B[38;5;124m'\u001B[39m\u001B[38;5;124mРадиус графа(ск)\u001B[39m\u001B[38;5;124m'\u001B[39m: staticGraph\u001B[38;5;241m.\u001B[39mget_radius(sg_sb),\n\u001B[1;32m     34\u001B[0m     \u001B[38;5;124m'\u001B[39m\u001B[38;5;124mДиаметр графа(ск)\u001B[39m\u001B[38;5;124m'\u001B[39m: staticGraph\u001B[38;5;241m.\u001B[39mget_diameter(sg_sb),\n\u001B[1;32m     35\u001B[0m     \u001B[38;5;124m'\u001B[39m\u001B[38;5;124m90 проц. расстояния(ск)\u001B[39m\u001B[38;5;124m'\u001B[39m: staticGraph\u001B[38;5;241m.\u001B[39mpercentile_distance(sg_sb),\n\u001B[1;32m     36\u001B[0m     \u001B[38;5;124m'\u001B[39m\u001B[38;5;124mРадиус графа(свв)\u001B[39m\u001B[38;5;124m'\u001B[39m: staticGraph\u001B[38;5;241m.\u001B[39mget_radius(sg_rsv),\n\u001B[1;32m     37\u001B[0m     \u001B[38;5;124m'\u001B[39m\u001B[38;5;124mДиаметр графа(свв)\u001B[39m\u001B[38;5;124m'\u001B[39m: staticGraph\u001B[38;5;241m.\u001B[39mget_diameter(sg_rsv),\n\u001B[1;32m     38\u001B[0m     \u001B[38;5;124m'\u001B[39m\u001B[38;5;124m90 проц.расстояния(свв)\u001B[39m\u001B[38;5;124m'\u001B[39m: staticGraph\u001B[38;5;241m.\u001B[39mpercentile_distance(sg_rsv),\n\u001B[1;32m     39\u001B[0m     \u001B[38;5;124m'\u001B[39m\u001B[38;5;124mКоэф.ассортативности\u001B[39m\u001B[38;5;124m'\u001B[39m: staticGraph\u001B[38;5;241m.\u001B[39massortative_factor(),\n\u001B[1;32m     40\u001B[0m     \u001B[38;5;124m'\u001B[39m\u001B[38;5;124mСред.класт.коэф.сети\u001B[39m\u001B[38;5;124m'\u001B[39m: staticGraph\u001B[38;5;241m.\u001B[39maverage_cluster_factor(),\n\u001B[1;32m     41\u001B[0m     \u001B[38;5;124m'\u001B[39m\u001B[38;5;124mAUC\u001B[39m\u001B[38;5;124m'\u001B[39m: mdtr\u001B[38;5;241m.\u001B[39mget_performance(tmpGraph),\n\u001B[1;32m     42\u001B[0m }\n",
      "File \u001B[0;32m~/PycharmProjects/graph-project-2023/python_graphs/base.py:357\u001B[0m, in \u001B[0;36mStaticGraph.get_radius\u001B[0;34m(self, method)\u001B[0m\n\u001B[1;32m    355\u001B[0m     \u001B[38;5;28;01mfor\u001B[39;00m i \u001B[38;5;129;01min\u001B[39;00m \u001B[38;5;28mrange\u001B[39m(cnt_verts):\n\u001B[1;32m    356\u001B[0m         \u001B[38;5;28;01mfor\u001B[39;00m j \u001B[38;5;129;01min\u001B[39;00m \u001B[38;5;28mrange\u001B[39m(cnt_verts):\n\u001B[0;32m--> 357\u001B[0m             shortest_paths[i][j] \u001B[38;5;241m=\u001B[39m \u001B[38;5;28;43mmin\u001B[39;49m\u001B[43m(\u001B[49m\u001B[43mshortest_paths\u001B[49m\u001B[43m[\u001B[49m\u001B[43mi\u001B[49m\u001B[43m]\u001B[49m\u001B[43m[\u001B[49m\u001B[43mj\u001B[49m\u001B[43m]\u001B[49m\u001B[43m,\u001B[49m\u001B[43m \u001B[49m\u001B[43mshortest_paths\u001B[49m\u001B[43m[\u001B[49m\u001B[43mi\u001B[49m\u001B[43m]\u001B[49m\u001B[43m[\u001B[49m\u001B[43mk\u001B[49m\u001B[43m]\u001B[49m\u001B[43m \u001B[49m\u001B[38;5;241;43m+\u001B[39;49m\u001B[43m \u001B[49m\u001B[43mshortest_paths\u001B[49m\u001B[43m[\u001B[49m\u001B[43mk\u001B[49m\u001B[43m]\u001B[49m\u001B[43m[\u001B[49m\u001B[43mj\u001B[49m\u001B[43m]\u001B[49m\u001B[43m)\u001B[49m\n\u001B[1;32m    359\u001B[0m radius \u001B[38;5;241m=\u001B[39m \u001B[38;5;241m1000000000\u001B[39m\n\u001B[1;32m    360\u001B[0m \u001B[38;5;28;01mfor\u001B[39;00m i \u001B[38;5;129;01min\u001B[39;00m \u001B[38;5;28mrange\u001B[39m(cnt_verts):\n",
      "\u001B[0;31mKeyboardInterrupt\u001B[0m: "
     ]
    }
   ],
   "source": [
    "latex_feature_network_table,latex_auc_table = vis.graph_features_tables(datasets_info)"
   ],
   "metadata": {
    "collapsed": false,
    "ExecuteTime": {
     "end_time": "2023-05-25T21:12:30.950484Z",
     "start_time": "2023-05-25T21:08:58.882722Z"
    }
   }
  },
  {
   "cell_type": "code",
   "execution_count": null,
   "outputs": [],
   "source": [
    "print(latex_feature_network_table)"
   ],
   "metadata": {
    "collapsed": false
   }
  },
  {
   "cell_type": "code",
   "execution_count": null,
   "outputs": [],
   "source": [
    "print(latex_auc_table)"
   ],
   "metadata": {
    "collapsed": false
   }
  }
 ],
 "metadata": {
  "kernelspec": {
   "display_name": ".venv",
   "language": "python",
   "name": "python3"
  },
  "language_info": {
   "codemirror_mode": {
    "name": "ipython",
    "version": 3
   },
   "file_extension": ".py",
   "mimetype": "text/x-python",
   "name": "python",
   "nbconvert_exporter": "python",
   "pygments_lexer": "ipython3",
   "version": "3.10.6"
  },
  "orig_nbformat": 4
 },
 "nbformat": 4,
 "nbformat_minor": 2
}
