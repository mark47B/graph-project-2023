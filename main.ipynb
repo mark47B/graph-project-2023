{
 "cells": [
  {
   "cell_type": "code",
   "execution_count": 1,
   "metadata": {},
   "outputs": [
    {
     "data": {
      "text/plain": [
       "<module 'python_graphs.base' from '/home/ivan/work/GraphProject/graph-project-2023/python_graphs/base.py'>"
      ]
     },
     "execution_count": 1,
     "metadata": {},
     "output_type": "execute_result"
    }
   ],
   "source": [
    "import python_graphs.base as graphs\n",
    "import importlib\n",
    "importlib.reload(graphs)"
   ]
  },
  {
   "attachments": {},
   "cell_type": "markdown",
   "metadata": {},
   "source": [
    "Выгружаем из датасета данные, создаём статический граф и методы для нахождения радиуса, диаметра и 90 процентиля между вершинами графа"
   ]
  },
  {
   "cell_type": "code",
   "execution_count": 2,
   "metadata": {},
   "outputs": [],
   "source": [
    "tmpGraph = graphs.TemporalGraph('./datasets/soc-sign-bitcoinalpha/out.soc-sign-bitcoinalpha')\n",
    "staticGraph = tmpGraph.get_static_graph(0.2, 0.6)\n",
    "snowball_sample_approach = graphs.SelectApproach(0, 5)\n",
    "random_selected_vertices_approach = graphs.SelectApproach()"
   ]
  },
  {
   "attachments": {},
   "cell_type": "markdown",
   "metadata": {},
   "source": [
    "Количество вершин, рёбер статического графа, его плотность, количество компонент слабой связности и характеристики наибольшей среди них"
   ]
  },
  {
   "cell_type": "code",
   "execution_count": 3,
   "metadata": {},
   "outputs": [
    {
     "name": "stdout",
     "output_type": "stream",
     "text": [
      "Количество вершин в графе:  1882\n",
      "Количество рёбер в графе:  5710\n",
      "Плотность графа:  0.0032259504265768598\n",
      "Доля вершин:  0.9824654622741764\n",
      "Количество компонент слабой связности:  17\n",
      "Количество вершин в наибольшей компоненте слабой связности:  1849\n",
      "Количество рёбер в наибольшей компоненте слабой связности:  5693\n"
     ]
    }
   ],
   "source": [
    "print(\"Количество вершин в графе: \", staticGraph.count_vertices())\n",
    "print(\"Количество рёбер в графе: \", staticGraph.count_edges())\n",
    "print(\"Плотность графа: \", staticGraph.density())\n",
    "print(\"Доля вершин: \", staticGraph.share_of_vertices())\n",
    "print(\"Количество компонент слабой связности: \", staticGraph.get_number_of_connected_components())\n",
    "\n",
    "print(\"Количество вершин в наибольшей компоненте слабой связности: \", staticGraph.get_largest_connected_component().count_vertices())\n",
    "print(\"Количество рёбер в наибольшей компоненте слабой связности: \", staticGraph.get_largest_connected_component().count_edges())"
   ]
  },
  {
   "attachments": {},
   "cell_type": "markdown",
   "metadata": {},
   "source": [
    "Радиус, диаметр и 90 процентиль расстояния между вершинами графа для метода \"снежного кома\""
   ]
  },
  {
   "cell_type": "code",
   "execution_count": 4,
   "metadata": {},
   "outputs": [
    {
     "name": "stdout",
     "output_type": "stream",
     "text": [
      "Оценка радиуса графа:  2.0\n",
      "Оценка диаметра графа:  4.0\n",
      "Оценка 90 процентиля графа:  3.0\n"
     ]
    }
   ],
   "source": [
    "sg = snowball_sample_approach(staticGraph.get_largest_connected_component())\n",
    "print(\"Оценка радиуса графа: \", staticGraph.get_radius(sg))\n",
    "print(\"Оценка диаметра графа: \", staticGraph.get_diameter(sg))\n",
    "print(\"Оценка 90 процентиля расстояния между вершинами графа: \", staticGraph.percentile_distance(sg))"
   ]
  },
  {
   "attachments": {},
   "cell_type": "markdown",
   "metadata": {},
   "source": [
    "Радиус, диаметр и 90 процентиль расстояния между вершинами графа для метода случайного выбора вершин"
   ]
  },
  {
   "cell_type": "code",
   "execution_count": 5,
   "metadata": {},
   "outputs": [
    {
     "name": "stdout",
     "output_type": "stream",
     "text": [
      "Оценка радиуса графа:  4.0\n",
      "Оценка диаметра графа:  7.0\n",
      "Оценка 90 процентиля расстояния между вершинами графа:  4.0\n"
     ]
    }
   ],
   "source": [
    "sg = random_selected_vertices_approach(staticGraph.get_largest_connected_component())\n",
    "print(\"Оценка радиуса графа: \", staticGraph.get_radius(sg))\n",
    "print(\"Оценка диаметра графа: \", staticGraph.get_diameter(sg))\n",
    "print(\"Оценка 90 процентиля расстояния между вершинами графа: \", staticGraph.percentile_distance(sg))"
   ]
  },
  {
   "attachments": {},
   "cell_type": "markdown",
   "metadata": {},
   "source": [
    "Коэффициент ассортативности"
   ]
  },
  {
   "cell_type": "code",
   "execution_count": 6,
   "metadata": {},
   "outputs": [
    {
     "name": "stdout",
     "output_type": "stream",
     "text": [
      "Коэффициент ассортативности:  -0.20018517273335756\n"
     ]
    }
   ],
   "source": [
    "print(\"Коэффициент ассортативности: \", staticGraph.assortative_factor())"
   ]
  },
  {
   "attachments": {},
   "cell_type": "markdown",
   "metadata": {},
   "source": [
    "Средний кластерный коэффициент сети"
   ]
  },
  {
   "cell_type": "code",
   "execution_count": 7,
   "metadata": {},
   "outputs": [
    {
     "name": "stdout",
     "output_type": "stream",
     "text": [
      "Средний кластерный коэффициент сети:  0.14476153466013023\n"
     ]
    }
   ],
   "source": [
    "print(\"Средний кластерный коэффициент сети: \", staticGraph.average_cluster_factor())"
   ]
  }
 ],
 "metadata": {
  "kernelspec": {
   "display_name": ".venv",
   "language": "python",
   "name": "python3"
  },
  "language_info": {
   "codemirror_mode": {
    "name": "ipython",
    "version": 3
   },
   "file_extension": ".py",
   "mimetype": "text/x-python",
   "name": "python",
   "nbconvert_exporter": "python",
   "pygments_lexer": "ipython3",
   "version": "3.10.6"
  },
  "orig_nbformat": 4
 },
 "nbformat": 4,
 "nbformat_minor": 2
}
