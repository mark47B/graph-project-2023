{
 "cells": [
  {
   "cell_type": "code",
   "execution_count": 1,
   "metadata": {
    "ExecuteTime": {
     "end_time": "2023-05-25T20:54:12.569360Z",
     "start_time": "2023-05-25T20:54:11.617042Z"
    }
   },
   "outputs": [],
   "source": [
    "import pandas as pd\n",
    "import python_graphs.visualization as vis"
   ]
  },
  {
   "cell_type": "code",
   "execution_count": 2,
   "metadata": {
    "ExecuteTime": {
     "end_time": "2023-05-25T21:08:34.782233Z",
     "start_time": "2023-05-25T21:08:34.761010Z"
    },
    "collapsed": false
   },
   "outputs": [],
   "source": [
    "Networks = ['email-Eu-core-temporal-Dept3', 'munmun_digg_reply', 'opsahi-ucsocial','radoslaw_email','soc-sign-bitcoinalpha', 'sx-mathoverflow']\n",
    "networks_files_names = [ f'datasets/{i}/out.{i}' for i in Networks]\n",
    "number_of_datasets = 6\n",
    "datasets_info = {'Network': ['email-Eu-core-temporal', 'munmun_digg_reply', 'opsahi-ucsocial','radoslaw_email','soc-sign-bitcoinalpha', 'sx-mathoverflow'],\n",
    "'Label': ['EU','D-rep','UC','Rado','bitA','SX-MO'],\n",
    "'Category': ['Social',\"Social\",\"Information\",\"Social\",\"Social\",\"Social\"],\n",
    "'Edge type': ['Multi','Simple','Multi','Multi','Simple','Multi'],\n",
    "'Path': networks_files_names}\n",
    "datasets_info = pd.DataFrame(datasets_info)"
   ]
  },
  {
   "cell_type": "code",
   "execution_count": 3,
   "metadata": {
    "ExecuteTime": {
     "end_time": "2023-05-25T21:08:35.407655Z",
     "start_time": "2023-05-25T21:08:35.398281Z"
    },
    "collapsed": false
   },
   "outputs": [
    {
     "data": {
      "text/html": [
       "<div>\n",
       "<style scoped>\n",
       "    .dataframe tbody tr th:only-of-type {\n",
       "        vertical-align: middle;\n",
       "    }\n",
       "\n",
       "    .dataframe tbody tr th {\n",
       "        vertical-align: top;\n",
       "    }\n",
       "\n",
       "    .dataframe thead th {\n",
       "        text-align: right;\n",
       "    }\n",
       "</style>\n",
       "<table border=\"1\" class=\"dataframe\">\n",
       "  <thead>\n",
       "    <tr style=\"text-align: right;\">\n",
       "      <th></th>\n",
       "      <th>Network</th>\n",
       "      <th>Label</th>\n",
       "      <th>Category</th>\n",
       "      <th>Edge type</th>\n",
       "      <th>Path</th>\n",
       "    </tr>\n",
       "  </thead>\n",
       "  <tbody>\n",
       "    <tr>\n",
       "      <th>4</th>\n",
       "      <td>soc-sign-bitcoinalpha</td>\n",
       "      <td>bitA</td>\n",
       "      <td>Social</td>\n",
       "      <td>Simple</td>\n",
       "      <td>datasets/soc-sign-bitcoinalpha/out.soc-sign-bi...</td>\n",
       "    </tr>\n",
       "  </tbody>\n",
       "</table>\n",
       "</div>"
      ],
      "text/plain": [
       "                 Network Label Category Edge type   \n",
       "4  soc-sign-bitcoinalpha  bitA   Social    Simple  \\\n",
       "\n",
       "                                                Path  \n",
       "4  datasets/soc-sign-bitcoinalpha/out.soc-sign-bi...  "
      ]
     },
     "execution_count": 3,
     "metadata": {},
     "output_type": "execute_result"
    }
   ],
   "source": [
    "datasets_info = datasets_info.iloc[4:5]\n",
    "datasets_info.head()"
   ]
  },
  {
   "cell_type": "code",
   "execution_count": 4,
   "metadata": {
    "ExecuteTime": {
     "end_time": "2023-05-25T21:12:30.950484Z",
     "start_time": "2023-05-25T21:08:58.882722Z"
    },
    "collapsed": false
   },
   "outputs": [
    {
     "name": "stdout",
     "output_type": "stream",
     "text": [
      "загрузили граф\n",
      "создали статичный\n",
      "snowball START\n",
      "random select START\n",
      "Получили статистику графа\n",
      "Посчитали полотность\n",
      "Получили число компонент связности\n",
      "Посчитали диаметр графа\n",
      "Посчитали диаметр графа\n",
      "Посчитали средний кластерный коэффициент\n",
      "Начало get_performance\n",
      "Начало feature_for_absent_edges\n"
     ]
    },
    {
     "ename": "",
     "evalue": "",
     "output_type": "error",
     "traceback": [
      "\u001b[1;31mCanceled future for execute_request message before replies were done"
     ]
    },
    {
     "ename": "",
     "evalue": "",
     "output_type": "error",
     "traceback": [
      "\u001b[1;31mThe Kernel crashed while executing code in the the current cell or a previous cell. Please review the code in the cell(s) to identify a possible cause of the failure. Click <a href='https://aka.ms/vscodeJupyterKernelCrash'>here</a> for more info. View Jupyter <a href='command:jupyter.viewOutput'>log</a> for further details."
     ]
    }
   ],
   "source": [
    "latex_feature_network_table,latex_auc_table = vis.graph_features_tables(datasets_info)"
   ]
  },
  {
   "cell_type": "code",
   "execution_count": null,
   "metadata": {
    "collapsed": false
   },
   "outputs": [],
   "source": [
    "print(latex_feature_network_table)"
   ]
  },
  {
   "cell_type": "code",
   "execution_count": null,
   "metadata": {
    "collapsed": false
   },
   "outputs": [],
   "source": [
    "print(latex_auc_table)"
   ]
  }
 ],
 "metadata": {
  "kernelspec": {
   "display_name": ".venv",
   "language": "python",
   "name": "python3"
  },
  "language_info": {
   "codemirror_mode": {
    "name": "ipython",
    "version": 3
   },
   "file_extension": ".py",
   "mimetype": "text/x-python",
   "name": "python",
   "nbconvert_exporter": "python",
   "pygments_lexer": "ipython3",
   "version": "3.10.6"
  },
  "orig_nbformat": 4
 },
 "nbformat": 4,
 "nbformat_minor": 2
}
